{
 "cells": [
  {
   "cell_type": "code",
   "execution_count": 4,
   "id": "7a6bf343",
   "metadata": {},
   "outputs": [
    {
     "name": "stdout",
     "output_type": "stream",
     "text": [
      "tf.Tensor(\n",
      "[[12 23 34 45]\n",
      " [ 3 25 16  1]\n",
      " [78  5 23 27]\n",
      " [95 42 17 20]], shape=(4, 4), dtype=int32)\n",
      "tf.Tensor([45 25 78 95], shape=(4,), dtype=int32)\n"
     ]
    }
   ],
   "source": [
    "import tensorflow as tf\n",
    "import numpy as np\n",
    "mat = tf.constant([[12, 23, 34, 45], [3, 25, 16, 1],\n",
    "                 [78, 5, 23,27], [95,42,17,20]])\n",
    "print(mat)\n",
    "matmax = tf.math.reduce_max(mat,axis=1)\n",
    "print(matmax)"
   ]
  },
  {
   "cell_type": "code",
   "execution_count": 6,
   "id": "eaead525",
   "metadata": {},
   "outputs": [
    {
     "name": "stdout",
     "output_type": "stream",
     "text": [
      "tf.Tensor(\n",
      "[[2 3 4 5]\n",
      " [9 6 7 9]\n",
      " [3 3 3 3]], shape=(3, 4), dtype=int32)\n"
     ]
    }
   ],
   "source": [
    "import tensorflow as tf\n",
    "a=tf.constant([[1,2,3,4],[2,4,5,6],[1,1,1,1]])\n",
    "b=tf.constant([[1,1,1,1],[7,2,2,3],[2,2,2,2]])\n",
    "c=tf.add(a,b)\n",
    "print(c)"
   ]
  },
  {
   "cell_type": "code",
   "execution_count": 5,
   "id": "0c30c7ab",
   "metadata": {},
   "outputs": [
    {
     "name": "stdout",
     "output_type": "stream",
     "text": [
      "tf.Tensor(\n",
      "[[3 6 6]\n",
      " [8 5 6]\n",
      " [8 5 3]], shape=(3, 3), dtype=int32)\n"
     ]
    }
   ],
   "source": [
    "list = ([[1,3,2],[7,2,2],[2,2,2]])\n",
    "a=tf.constant([[2,3,4],[1,3,4],[6,3,1]])\n",
    "c=tf.add(list,a)\n",
    "print(c)"
   ]
  },
  {
   "cell_type": "code",
   "execution_count": null,
   "id": "e0213e4a",
   "metadata": {},
   "outputs": [],
   "source": []
  },
  {
   "cell_type": "code",
   "execution_count": null,
   "id": "f8517712",
   "metadata": {},
   "outputs": [],
   "source": []
  }
 ],
 "metadata": {
  "kernelspec": {
   "display_name": "Python 3 (ipykernel)",
   "language": "python",
   "name": "python3"
  },
  "language_info": {
   "codemirror_mode": {
    "name": "ipython",
    "version": 3
   },
   "file_extension": ".py",
   "mimetype": "text/x-python",
   "name": "python",
   "nbconvert_exporter": "python",
   "pygments_lexer": "ipython3",
   "version": "3.9.12"
  }
 },
 "nbformat": 4,
 "nbformat_minor": 5
}
