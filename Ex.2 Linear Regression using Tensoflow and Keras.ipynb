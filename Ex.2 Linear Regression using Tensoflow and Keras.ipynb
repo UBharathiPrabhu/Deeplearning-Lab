{
 "cells": [
  {
   "cell_type": "code",
   "execution_count": 12,
   "id": "8dbaf2f4",
   "metadata": {},
   "outputs": [
    {
     "data": {
      "text/html": [
       "<div>\n",
       "<style scoped>\n",
       "    .dataframe tbody tr th:only-of-type {\n",
       "        vertical-align: middle;\n",
       "    }\n",
       "\n",
       "    .dataframe tbody tr th {\n",
       "        vertical-align: top;\n",
       "    }\n",
       "\n",
       "    .dataframe thead th {\n",
       "        text-align: right;\n",
       "    }\n",
       "</style>\n",
       "<table border=\"1\" class=\"dataframe\">\n",
       "  <thead>\n",
       "    <tr style=\"text-align: right;\">\n",
       "      <th></th>\n",
       "      <th>CRIM</th>\n",
       "      <th>ZN</th>\n",
       "      <th>INDUS</th>\n",
       "      <th>CHAS</th>\n",
       "      <th>NOX</th>\n",
       "      <th>RM</th>\n",
       "      <th>AGE</th>\n",
       "      <th>DIS</th>\n",
       "      <th>RAD</th>\n",
       "      <th>TAX</th>\n",
       "      <th>PTRATION</th>\n",
       "      <th>B</th>\n",
       "      <th>LSTAT</th>\n",
       "      <th>MEDV</th>\n",
       "    </tr>\n",
       "  </thead>\n",
       "  <tbody>\n",
       "    <tr>\n",
       "      <th>496</th>\n",
       "      <td>0.28960</td>\n",
       "      <td>0.0</td>\n",
       "      <td>9.69</td>\n",
       "      <td>0</td>\n",
       "      <td>0.585</td>\n",
       "      <td>5.390</td>\n",
       "      <td>72.9</td>\n",
       "      <td>2.7986</td>\n",
       "      <td>6</td>\n",
       "      <td>391.0</td>\n",
       "      <td>19.2</td>\n",
       "      <td>396.90</td>\n",
       "      <td>21.14</td>\n",
       "      <td>19.7</td>\n",
       "    </tr>\n",
       "    <tr>\n",
       "      <th>497</th>\n",
       "      <td>0.26838</td>\n",
       "      <td>0.0</td>\n",
       "      <td>9.69</td>\n",
       "      <td>0</td>\n",
       "      <td>0.585</td>\n",
       "      <td>5.794</td>\n",
       "      <td>70.6</td>\n",
       "      <td>2.8927</td>\n",
       "      <td>6</td>\n",
       "      <td>391.0</td>\n",
       "      <td>19.2</td>\n",
       "      <td>396.90</td>\n",
       "      <td>14.10</td>\n",
       "      <td>18.3</td>\n",
       "    </tr>\n",
       "    <tr>\n",
       "      <th>498</th>\n",
       "      <td>0.23912</td>\n",
       "      <td>0.0</td>\n",
       "      <td>9.69</td>\n",
       "      <td>0</td>\n",
       "      <td>0.585</td>\n",
       "      <td>6.019</td>\n",
       "      <td>65.3</td>\n",
       "      <td>2.4091</td>\n",
       "      <td>6</td>\n",
       "      <td>391.0</td>\n",
       "      <td>19.2</td>\n",
       "      <td>396.90</td>\n",
       "      <td>12.92</td>\n",
       "      <td>21.2</td>\n",
       "    </tr>\n",
       "    <tr>\n",
       "      <th>499</th>\n",
       "      <td>0.17783</td>\n",
       "      <td>0.0</td>\n",
       "      <td>9.69</td>\n",
       "      <td>0</td>\n",
       "      <td>0.585</td>\n",
       "      <td>5.569</td>\n",
       "      <td>73.5</td>\n",
       "      <td>2.3999</td>\n",
       "      <td>6</td>\n",
       "      <td>391.0</td>\n",
       "      <td>19.2</td>\n",
       "      <td>395.77</td>\n",
       "      <td>15.10</td>\n",
       "      <td>17.5</td>\n",
       "    </tr>\n",
       "    <tr>\n",
       "      <th>500</th>\n",
       "      <td>0.22438</td>\n",
       "      <td>0.0</td>\n",
       "      <td>9.69</td>\n",
       "      <td>0</td>\n",
       "      <td>0.585</td>\n",
       "      <td>6.027</td>\n",
       "      <td>79.7</td>\n",
       "      <td>2.4982</td>\n",
       "      <td>6</td>\n",
       "      <td>391.0</td>\n",
       "      <td>19.2</td>\n",
       "      <td>396.90</td>\n",
       "      <td>14.33</td>\n",
       "      <td>16.8</td>\n",
       "    </tr>\n",
       "    <tr>\n",
       "      <th>501</th>\n",
       "      <td>0.06263</td>\n",
       "      <td>0.0</td>\n",
       "      <td>11.93</td>\n",
       "      <td>0</td>\n",
       "      <td>0.573</td>\n",
       "      <td>6.593</td>\n",
       "      <td>69.1</td>\n",
       "      <td>2.4786</td>\n",
       "      <td>1</td>\n",
       "      <td>273.0</td>\n",
       "      <td>21.0</td>\n",
       "      <td>391.99</td>\n",
       "      <td>9.67</td>\n",
       "      <td>22.4</td>\n",
       "    </tr>\n",
       "    <tr>\n",
       "      <th>502</th>\n",
       "      <td>0.04527</td>\n",
       "      <td>0.0</td>\n",
       "      <td>11.93</td>\n",
       "      <td>0</td>\n",
       "      <td>0.573</td>\n",
       "      <td>6.120</td>\n",
       "      <td>76.7</td>\n",
       "      <td>2.2875</td>\n",
       "      <td>1</td>\n",
       "      <td>273.0</td>\n",
       "      <td>21.0</td>\n",
       "      <td>396.90</td>\n",
       "      <td>9.08</td>\n",
       "      <td>20.6</td>\n",
       "    </tr>\n",
       "    <tr>\n",
       "      <th>503</th>\n",
       "      <td>0.06076</td>\n",
       "      <td>0.0</td>\n",
       "      <td>11.93</td>\n",
       "      <td>0</td>\n",
       "      <td>0.573</td>\n",
       "      <td>6.976</td>\n",
       "      <td>91.0</td>\n",
       "      <td>2.1675</td>\n",
       "      <td>1</td>\n",
       "      <td>273.0</td>\n",
       "      <td>21.0</td>\n",
       "      <td>396.90</td>\n",
       "      <td>5.64</td>\n",
       "      <td>23.9</td>\n",
       "    </tr>\n",
       "    <tr>\n",
       "      <th>504</th>\n",
       "      <td>0.10959</td>\n",
       "      <td>0.0</td>\n",
       "      <td>11.93</td>\n",
       "      <td>0</td>\n",
       "      <td>0.573</td>\n",
       "      <td>6.794</td>\n",
       "      <td>89.3</td>\n",
       "      <td>2.3889</td>\n",
       "      <td>1</td>\n",
       "      <td>273.0</td>\n",
       "      <td>21.0</td>\n",
       "      <td>393.45</td>\n",
       "      <td>6.48</td>\n",
       "      <td>22.0</td>\n",
       "    </tr>\n",
       "    <tr>\n",
       "      <th>505</th>\n",
       "      <td>0.04741</td>\n",
       "      <td>0.0</td>\n",
       "      <td>11.93</td>\n",
       "      <td>0</td>\n",
       "      <td>0.573</td>\n",
       "      <td>6.030</td>\n",
       "      <td>80.8</td>\n",
       "      <td>2.5050</td>\n",
       "      <td>1</td>\n",
       "      <td>273.0</td>\n",
       "      <td>21.0</td>\n",
       "      <td>396.90</td>\n",
       "      <td>7.88</td>\n",
       "      <td>11.9</td>\n",
       "    </tr>\n",
       "  </tbody>\n",
       "</table>\n",
       "</div>"
      ],
      "text/plain": [
       "        CRIM   ZN  INDUS  CHAS    NOX     RM   AGE     DIS  RAD    TAX  \\\n",
       "496  0.28960  0.0   9.69     0  0.585  5.390  72.9  2.7986    6  391.0   \n",
       "497  0.26838  0.0   9.69     0  0.585  5.794  70.6  2.8927    6  391.0   \n",
       "498  0.23912  0.0   9.69     0  0.585  6.019  65.3  2.4091    6  391.0   \n",
       "499  0.17783  0.0   9.69     0  0.585  5.569  73.5  2.3999    6  391.0   \n",
       "500  0.22438  0.0   9.69     0  0.585  6.027  79.7  2.4982    6  391.0   \n",
       "501  0.06263  0.0  11.93     0  0.573  6.593  69.1  2.4786    1  273.0   \n",
       "502  0.04527  0.0  11.93     0  0.573  6.120  76.7  2.2875    1  273.0   \n",
       "503  0.06076  0.0  11.93     0  0.573  6.976  91.0  2.1675    1  273.0   \n",
       "504  0.10959  0.0  11.93     0  0.573  6.794  89.3  2.3889    1  273.0   \n",
       "505  0.04741  0.0  11.93     0  0.573  6.030  80.8  2.5050    1  273.0   \n",
       "\n",
       "     PTRATION       B  LSTAT  MEDV  \n",
       "496      19.2  396.90  21.14  19.7  \n",
       "497      19.2  396.90  14.10  18.3  \n",
       "498      19.2  396.90  12.92  21.2  \n",
       "499      19.2  395.77  15.10  17.5  \n",
       "500      19.2  396.90  14.33  16.8  \n",
       "501      21.0  391.99   9.67  22.4  \n",
       "502      21.0  396.90   9.08  20.6  \n",
       "503      21.0  396.90   5.64  23.9  \n",
       "504      21.0  393.45   6.48  22.0  \n",
       "505      21.0  396.90   7.88  11.9  "
      ]
     },
     "execution_count": 12,
     "metadata": {},
     "output_type": "execute_result"
    }
   ],
   "source": [
    "import tensorflow as tf\n",
    "import keras\n",
    "import pandas as pd\n",
    "import numpy as np\n",
    "import sklearn\n",
    "dataset_path = tf.keras.utils.get_file(\"housing.data\", \"https://archive.ics.uci.edu/ml/machine-learning-databases/housing/housing.data\")\n",
    "column_names = ['CRIM','ZN','INDUS','CHAS','NOX',\n",
    "                'RM', 'AGE', 'DIS','RAD','TAX','PTRATION', 'B', 'LSTAT', 'MEDV']\n",
    "raw_dataset = pd.read_csv(dataset_path, names=column_names,\n",
    "                      na_values = \"?\", comment='\\t',\n",
    "                      sep=\" \", skipinitialspace=True)\n",
    "# Create a dataset instant\n",
    "dataset = raw_dataset.copy()\n",
    "# This function returns last n rows from the object \n",
    "# based on position.\n",
    "dataset.tail(n=10)"
   ]
  },
  {
   "cell_type": "code",
   "execution_count": 2,
   "id": "27c6325e",
   "metadata": {},
   "outputs": [],
   "source": [
    "# Split data into train/test\n",
    "# p = training data portion\n",
    "\n",
    "p=0.8\n",
    "trainDataset = dataset.sample(frac=p,random_state=0)\n",
    "testDataset = dataset.drop(trainDataset.index)"
   ]
  },
  {
   "cell_type": "code",
   "execution_count": 3,
   "id": "c54cfd52",
   "metadata": {},
   "outputs": [
    {
     "data": {
      "image/png": "[encoded data removed]",
      "text/plain": [
       "<Figure size 432x288 with 1 Axes>"
      ]
     },
     "metadata": {
      "needs_background": "light"
     },
     "output_type": "display_data"
    }
   ],
   "source": [
    "# Visual representation of training data\n",
    "import matplotlib.pyplot as plt\n",
    "fig, ax = plt.subplots()\n",
    "# With .pop() command, the associated columns are extracted.\n",
    "x = trainDataset['RM']\n",
    "y = trainDataset['MEDV']\n",
    "ax.scatter(x, y, edgecolors=(0, 0, 0))\n",
    "ax.set_xlabel('RM')\n",
    "ax.set_ylabel('MEDV')\n",
    "plt.show()"
   ]
  },
  {
   "cell_type": "code",
   "execution_count": 4,
   "id": "6fafd593",
   "metadata": {},
   "outputs": [],
   "source": [
    "# Pop command return item and drop it from frame.\n",
    "# After using trainDataset.pop('RM'), the 'RM' column \n",
    "# does not exist in the trainDataset frame anymore!\n",
    "trainInput = trainDataset['RM']\n",
    "trainTarget = trainDataset['MEDV']\n",
    "testInput = testDataset['RM']\n",
    "testTarget = testDataset['MEDV']"
   ]
  },
  {
   "cell_type": "code",
   "execution_count": 5,
   "id": "fea8065b",
   "metadata": {},
   "outputs": [],
   "source": [
    "# We don't specify anything for activation -> no activation is applied (ie. \"linear\" activation: a(x) = x)\n",
    "# Check: https://www.tensorflow.org/api_docs/python/tf/keras/layers/Dense\n",
    "model = keras.Sequential([\n",
    "     keras.layers.Dense(1, use_bias=True, input_shape=(1,))\n",
    "    ])"
   ]
  },
  {
   "cell_type": "code",
   "execution_count": 6,
   "id": "58312776",
   "metadata": {},
   "outputs": [],
   "source": [
    "# Adam optimize\n",
    "optimizer = tf.keras.optimizers.Adam(\n",
    "    learning_rate=0.01, beta_1=0.9, beta_2=0.99, epsilon=1e-05, amsgrad=False,\n",
    "    name='Adam')\n",
    "  \n",
    "# Model compiling settings\n",
    "model.compile(loss='mse', optimizer=optimizer, metrics=['mae','mse'])"
   ]
  },
  {
   "cell_type": "code",
   "execution_count": 7,
   "id": "68f75b1e",
   "metadata": {},
   "outputs": [
    {
     "name": "stdout",
     "output_type": "stream",
     "text": [
      "Epoch 0, loss 521.88, val_loss 607.78, mae 21.14, val_mae 22.40, mse 521.88, val_mse 607.78\n",
      "Epoch 100, loss 135.49, val_loss 192.30, mae 9.20, val_mae 10.68, mse 135.49, val_mse 192.30\n",
      "Epoch 200, loss 57.50, val_loss 97.60, mae 5.31, val_mae 6.92, mse 57.50, val_mse 97.60\n",
      "Epoch 300, loss 55.07, val_loss 91.84, mae 5.31, val_mae 6.79, mse 55.07, val_mse 91.84\n",
      "Epoch 400, loss 54.64, val_loss 91.67, mae 5.27, val_mae 6.77, mse 54.64, val_mse 91.67\n",
      "Epoch 500, loss 53.90, val_loss 90.91, mae 5.24, val_mae 6.72, mse 53.90, val_mse 90.91\n",
      "Epoch 600, loss 53.02, val_loss 90.27, mae 5.20, val_mae 6.67, mse 53.02, val_mse 90.27\n",
      "Epoch 700, loss 52.16, val_loss 89.85, mae 5.14, val_mae 6.62, mse 52.16, val_mse 89.85\n",
      "Epoch 800, loss 51.35, val_loss 89.46, mae 5.08, val_mae 6.57, mse 51.35, val_mse 89.46\n",
      "Epoch 900, loss 50.59, val_loss 88.80, mae 5.04, val_mae 6.52, mse 50.59, val_mse 88.80\n",
      "Epoch 1000, loss 49.86, val_loss 88.19, mae 5.00, val_mae 6.47, mse 49.86, val_mse 88.19\n",
      "Epoch 1100, loss 49.16, val_loss 87.83, mae 4.95, val_mae 6.42, mse 49.16, val_mse 87.83\n",
      "Epoch 1200, loss 48.52, val_loss 87.29, mae 4.91, val_mae 6.39, mse 48.52, val_mse 87.29\n",
      "Epoch 1300, loss 47.91, val_loss 86.96, mae 4.87, val_mae 6.35, mse 47.91, val_mse 86.96\n",
      "Epoch 1400, loss 47.38, val_loss 86.63, mae 4.83, val_mae 6.32, mse 47.38, val_mse 86.63\n",
      "Epoch 1500, loss 46.87, val_loss 86.51, mae 4.79, val_mae 6.30, mse 46.87, val_mse 86.51\n",
      "Epoch 1600, loss 46.37, val_loss 86.06, mae 4.76, val_mae 6.27, mse 46.37, val_mse 86.06\n",
      "Epoch 1700, loss 45.92, val_loss 86.08, mae 4.72, val_mae 6.24, mse 45.92, val_mse 86.08\n",
      "Epoch 1800, loss 45.50, val_loss 85.57, mae 4.70, val_mae 6.21, mse 45.50, val_mse 85.57\n",
      "Epoch 1900, loss 45.09, val_loss 85.40, mae 4.67, val_mae 6.18, mse 45.09, val_mse 85.40\n"
     ]
    }
   ],
   "source": [
    "# A mechanism that stops training if the validation loss is not improving for more than n_idle_epochs.\n",
    "n_idle_epochs = 100\n",
    "earlyStopping = tf.keras.callbacks.EarlyStopping(monitor='val_loss', patience=n_idle_epochs, min_delta=0.01)\n",
    "# Creating a custom callback to print the log after a certain number of epochs\n",
    "class NEPOCHLogger(tf.keras.callbacks.Callback):\n",
    "    def __init__(self,per_epoch=100):\n",
    "        '''\n",
    "        display: Number of batches to wait before outputting loss\n",
    "        '''\n",
    "        self.seen = 0\n",
    "        self.per_epoch = per_epoch\n",
    "    \n",
    "    def on_epoch_end(self, epoch, logs=None):\n",
    "      if epoch % self.per_epoch == 0:\n",
    "        print('Epoch {}, loss {:.2f}, val_loss {:.2f}, mae {:.2f}, val_mae {:.2f}, mse {:.2f}, val_mse {:.2f}'\\\n",
    "              .format(epoch, logs['loss'], logs['val_loss'],logs['mae'], logs['val_mae'],logs['mse'], logs['val_mse']))\n",
    "        \n",
    "# Call the object\n",
    "log_display = NEPOCHLogger(per_epoch=100)\n",
    "# Training loop\n",
    "n_epochs = 2000\n",
    "history = model.fit(\n",
    "  trainInput, trainTarget, batch_size=256,\n",
    "  epochs=n_epochs, validation_split = 0.1, verbose=0, callbacks=[earlyStopping,log_display])"
   ]
  },
  {
   "cell_type": "code",
   "execution_count": 8,
   "id": "f8fdf65f",
   "metadata": {},
   "outputs": [
    {
     "name": "stdout",
     "output_type": "stream",
     "text": [
      "keys: dict_keys(['loss', 'mae', 'mse', 'val_loss', 'val_mae', 'val_mse'])\n"
     ]
    }
   ],
   "source": [
    "print('keys:', history.history.keys())"
   ]
  },
  {
   "cell_type": "code",
   "execution_count": 9,
   "id": "69e92af7",
   "metadata": {},
   "outputs": [
    {
     "data": {
      "text/plain": [
       "<AxesSubplot:>"
      ]
     },
     "execution_count": 9,
     "metadata": {},
     "output_type": "execute_result"
    },
    {
     "data": {
      "image/png": "[encoded data removed]",
      "text/plain": [
       "<Figure size 432x288 with 1 Axes>"
      ]
     },
     "metadata": {},
     "output_type": "display_data"
    }
   ],
   "source": [
    "import pandas as pd\n",
    "import seaborn as sns\n",
    "# Returning the desired values for plotting and turn to numpy array\n",
    "mae = np.asarray(history.history['mae'])\n",
    "val_mae = np.asarray(history.history['val_mae'])\n",
    "# Creating the data frame\n",
    "num_values = (len(mae))\n",
    "values = np.zeros((num_values,2), dtype=float)\n",
    "values[:,0] = mae\n",
    "values[:,1] = val_mae\n",
    "# Using pandas to frame the data\n",
    "steps = pd.RangeIndex(start=0,stop=num_values)\n",
    "data = pd.DataFrame(values, steps, columns=[\"mae\", \"va-mae\"])\n",
    "# Plotting\n",
    "sns.set(style=\"whitegrid\")\n",
    "sns.lineplot(data=data, palette=\"tab10\", linewidth=2.5)"
   ]
  },
  {
   "cell_type": "code",
   "execution_count": 11,
   "id": "b5825dd0",
   "metadata": {},
   "outputs": [
    {
     "data": {
      "image/png": "[encoded data removed]",
      "text/plain": [
       "<Figure size 432x288 with 1 Axes>"
      ]
     },
     "metadata": {},
     "output_type": "display_data"
    }
   ],
   "source": [
    "predictions = model.predict(testInput).flatten()\n",
    "a = plt.axes(aspect='equal')\n",
    "plt.scatter(predictions, testTarget, edgecolors=(0, 0, 0))\n",
    "plt.xlabel('True Values')\n",
    "plt.ylabel('Predictions')\n",
    "lims = [0, 50]\n",
    "plt.xlim(lims)\n",
    "plt.ylim(lims)\n",
    "_ = plt.plot(lims, lims)"
   ]
  },
  {
   "cell_type": "code",
   "execution_count": null,
   "id": "8e080adb",
   "metadata": {},
   "outputs": [],
   "source": []
  },
  {
   "cell_type": "code",
   "execution_count": null,
   "id": "ba5416d1",
   "metadata": {},
   "outputs": [],
   "source": []
  }
 ],
 "metadata": {
  "kernelspec": {
   "display_name": "Python 3 (ipykernel)",
   "language": "python",
   "name": "python3"
  },
  "language_info": {
   "codemirror_mode": {
    "name": "ipython",
    "version": 3
   },
   "file_extension": ".py",
   "mimetype": "text/x-python",
   "name": "python",
   "nbconvert_exporter": "python",
   "pygments_lexer": "ipython3",
   "version": "3.9.12"
  }
 },
 "nbformat": 4,
 "nbformat_minor": 5
}
